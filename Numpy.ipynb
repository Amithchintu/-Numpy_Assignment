{
  "nbformat": 4,
  "nbformat_minor": 0,
  "metadata": {
    "colab": {
      "provenance": [],
      "include_colab_link": true
    },
    "kernelspec": {
      "name": "python3",
      "display_name": "Python 3"
    },
    "language_info": {
      "name": "python"
    }
  },
  "cells": [
    {
      "cell_type": "markdown",
      "metadata": {
        "id": "view-in-github",
        "colab_type": "text"
      },
      "source": [
        "<a href=\"https://colab.research.google.com/github/Amithchintu/-Numpy_Assignment/blob/main/Numpy.ipynb\" target=\"_parent\"><img src=\"https://colab.research.google.com/assets/colab-badge.svg\" alt=\"Open In Colab\"/></a>"
      ]
    },
    {
      "cell_type": "markdown",
      "source": [
        "# 1. Create a 3x3 NumPy array with random integers between 1 and 100. Then, interchange its rows and columns.\n",
        "\n",
        "# Create a 3x3 NumPy array with random integers between 1 and 100, and then interchange its rows and columns.\n",
        "\n",
        "# Step 1: Create the 3x3 Array\n",
        "# We’ll use np.random.randint() to generate the array."
      ],
      "metadata": {
        "id": "1VNvOqPybA_4"
      }
    },
    {
      "cell_type": "code",
      "execution_count": null,
      "metadata": {
        "id": "VVujQRgua4QJ"
      },
      "outputs": [],
      "source": [
        "import numpy as np\n",
        "\n",
        "# Creating a 3x3 array with random integers between 1 and 100\n",
        "arr = np.random.randint(1, 101, size=(3, 3))\n",
        "print(\"Original array:\\n\", arr)"
      ]
    },
    {
      "cell_type": "markdown",
      "source": [
        "# Step 2: Interchange Rows and Columns\n",
        "# We can use the transpose() method or the .T attribute to interchange the rows and columns."
      ],
      "metadata": {
        "id": "VuELZXZLbhn3"
      }
    },
    {
      "cell_type": "code",
      "source": [
        "# Interchanging rows and columns\n",
        "transposed_arr = arr.T\n",
        "print(\"Transposed array:\\n\", transposed_arr)"
      ],
      "metadata": {
        "id": "d_APHugEbczA"
      },
      "execution_count": null,
      "outputs": []
    },
    {
      "cell_type": "markdown",
      "source": [
        "# Complete Code\n",
        "# Here’s the complete code to create and transpose the array:"
      ],
      "metadata": {
        "id": "r2SiK8gjbt6B"
      }
    },
    {
      "cell_type": "code",
      "source": [
        "import numpy as np\n",
        "\n",
        "# Creating a 3x3 array with random integers between 1 and 100\n",
        "arr = np.random.randint(1, 101, size=(3, 3))\n",
        "print(\"Original array:\\n\", arr)\n",
        "\n",
        "# Interchanging rows and columns\n",
        "transposed_arr = arr.T\n",
        "print(\"Transposed array:\\n\", transposed_arr)"
      ],
      "metadata": {
        "colab": {
          "base_uri": "https://localhost:8080/"
        },
        "id": "xGZV5P94cASn",
        "outputId": "4633fe64-e27b-4f66-e126-9bcd2b09eab7"
      },
      "execution_count": null,
      "outputs": [
        {
          "output_type": "stream",
          "name": "stdout",
          "text": [
            "Original array:\n",
            " [[14 78 70]\n",
            " [93 17 17]\n",
            " [19 38 73]]\n",
            "Transposed array:\n",
            " [[14 93 19]\n",
            " [78 17 38]\n",
            " [70 17 73]]\n"
          ]
        }
      ]
    },
    {
      "cell_type": "markdown",
      "source": [
        "# Example Output\n",
        "# The output will vary each time you run the code because of the random integers.\n"
      ],
      "metadata": {
        "id": "OlfUHzahb9wa"
      }
    },
    {
      "cell_type": "markdown",
      "source": [
        "# This code snippet demonstrates how to create a 3x3 array with random integers and interchange its rows and columns using NumPy."
      ],
      "metadata": {
        "id": "HxUYIoFYc0sh"
      }
    },
    {
      "cell_type": "markdown",
      "source": [
        "# 2. Generate a 1D NumPy array with 10 elements. Reshape it into a 2x5 array, then into a 5x2 array.\n",
        "# Let’s go through the steps to generate a 1D NumPy array with 10 elements and reshape it into a 2x5 array, then into a 5x2 array.\n",
        "\n",
        "# Step 1: Generate a 1D NumPy Array with 10 Elements\n",
        "# We’ll use np.arange() to create an array with 10 elements."
      ],
      "metadata": {
        "id": "s_mtW7b6dB5T"
      }
    },
    {
      "cell_type": "code",
      "source": [
        "import numpy as np\n",
        "\n",
        "# Creating a 1D array with 10 elements\n",
        "arr = np.arange(10)\n",
        "print(\"Original 1D array:\\n\", arr)"
      ],
      "metadata": {
        "id": "FpaYbMtjdi-P"
      },
      "execution_count": null,
      "outputs": []
    },
    {
      "cell_type": "markdown",
      "source": [
        "# Step 2: Reshape the Array into a 2x5 Array\n",
        "# We’ll use the reshape() method to change the shape of the array."
      ],
      "metadata": {
        "id": "7k5zzqD8dm3P"
      }
    },
    {
      "cell_type": "code",
      "source": [
        "# Reshaping the array into a 2x5 array\n",
        "arr_2x5 = arr.reshape((2, 5))\n",
        "print(\"Reshaped to 2x5 array:\\n\", arr_2x5)"
      ],
      "metadata": {
        "id": "qRR3y-cQdtZp"
      },
      "execution_count": null,
      "outputs": []
    },
    {
      "cell_type": "markdown",
      "source": [
        "# Step 3: Reshape the Array into a 5x2 Array\n",
        "# We’ll again use the reshape() method to change the shape of the array."
      ],
      "metadata": {
        "id": "AsN4rdJRdx9o"
      }
    },
    {
      "cell_type": "code",
      "source": [
        "# Reshaping the array into a 5x2 array\n",
        "arr_5x2 = arr_2x5.reshape((5, 2))\n",
        "print(\"Reshaped to 5x2 array:\\n\", arr_5x2)"
      ],
      "metadata": {
        "id": "hD-7Z_zId3bA"
      },
      "execution_count": null,
      "outputs": []
    },
    {
      "cell_type": "markdown",
      "source": [
        "# Complete Code\n",
        "# Here’s the complete code to generate and reshape the array:"
      ],
      "metadata": {
        "id": "XhOEpQOWd7wJ"
      }
    },
    {
      "cell_type": "code",
      "source": [
        "import numpy as np\n",
        "\n",
        "# Creating a 1D array with 10 elements\n",
        "arr = np.arange(10)\n",
        "print(\"Original 1D array:\\n\", arr)\n",
        "\n",
        "# Reshaping the array into a 2x5 array\n",
        "arr_2x5 = arr.reshape((2, 5))\n",
        "print(\"Reshaped to 2x5 array:\\n\", arr_2x5)\n",
        "\n",
        "# Reshaping the array into a 5x2 array\n",
        "arr_5x2 = arr_2x5.reshape((5, 2))\n",
        "print(\"Reshaped to 5x2 array:\\n\", arr_5x2)"
      ],
      "metadata": {
        "colab": {
          "base_uri": "https://localhost:8080/"
        },
        "id": "JI0ZckAueAvZ",
        "outputId": "6f04d984-8868-46ff-c1ea-eb0d06e71831"
      },
      "execution_count": null,
      "outputs": [
        {
          "output_type": "stream",
          "name": "stdout",
          "text": [
            "Original 1D array:\n",
            " [0 1 2 3 4 5 6 7 8 9]\n",
            "Reshaped to 2x5 array:\n",
            " [[0 1 2 3 4]\n",
            " [5 6 7 8 9]]\n",
            "Reshaped to 5x2 array:\n",
            " [[0 1]\n",
            " [2 3]\n",
            " [4 5]\n",
            " [6 7]\n",
            " [8 9]]\n"
          ]
        }
      ]
    },
    {
      "cell_type": "markdown",
      "source": [
        "# This code demonstrates how to create a 1D array and reshape it into different dimensions using NumPy."
      ],
      "metadata": {
        "id": "mh0Q9l5PeSdR"
      }
    },
    {
      "cell_type": "markdown",
      "source": [
        "# 3. Create a 4x4 NumPy array with random float values. Add a border of zeros around it, resulting in a 6x6 array.\n"
      ],
      "metadata": {
        "id": "yjg93A6_enge"
      }
    },
    {
      "cell_type": "markdown",
      "source": [
        "# Let’s create a 4x4 NumPy array with random float values and then add a border of zeros around it to form a 6x6 array.\n",
        "\n",
        "# Step 1: Create the 4x4 Array with Random Float Values\n",
        "# We’ll use np.random.rand() to generate the array with random float values between 0 and 1."
      ],
      "metadata": {
        "id": "b_YyCik5e9WR"
      }
    },
    {
      "cell_type": "code",
      "source": [
        "import numpy as np\n",
        "\n",
        "# Creating a 4x4 array with random float values\n",
        "arr_4x4 = np.random.rand(4, 4)\n",
        "print(\"Original 4x4 array:\\n\", arr_4x4)"
      ],
      "metadata": {
        "id": "rLJb_JqweJ5Z"
      },
      "execution_count": null,
      "outputs": []
    },
    {
      "cell_type": "markdown",
      "source": [
        "# Step 2: Add a Border of Zeros\n",
        "# We can use np.pad() to add a border of zeros around the array."
      ],
      "metadata": {
        "id": "pTkEEJoKfIh2"
      }
    },
    {
      "cell_type": "code",
      "source": [
        "# Adding a border of zeros around the 4x4 array\n",
        "arr_6x6 = np.pad(arr_4x4, pad_width=1, mode='constant', constant_values=0)\n",
        "print(\"6x6 array with border of zeros:\\n\", arr_6x6)"
      ],
      "metadata": {
        "id": "NJeOwHZAfNzJ"
      },
      "execution_count": null,
      "outputs": []
    },
    {
      "cell_type": "markdown",
      "source": [
        "# Complete Code\n",
        "# Here’s the complete code to create the 4x4 array and add a border of zeros:"
      ],
      "metadata": {
        "id": "63Y7ySmqfV9L"
      }
    },
    {
      "cell_type": "code",
      "source": [
        "import numpy as np\n",
        "\n",
        "# Creating a 4x4 array with random float values\n",
        "arr_4x4 = np.random.rand(4, 4)\n",
        "print(\"Original 4x4 array:\\n\", arr_4x4)\n",
        "\n",
        "# Adding a border of zeros around the 4x4 array\n",
        "arr_6x6 = np.pad(arr_4x4, pad_width=1, mode='constant', constant_values=0)\n",
        "print(\"6x6 array with border of zeros:\\n\", arr_6x6)"
      ],
      "metadata": {
        "colab": {
          "base_uri": "https://localhost:8080/"
        },
        "id": "BTosf1qcfcPx",
        "outputId": "9a842b57-d04f-427a-cff4-fbb3a5e819d9"
      },
      "execution_count": null,
      "outputs": [
        {
          "output_type": "stream",
          "name": "stdout",
          "text": [
            "Original 4x4 array:\n",
            " [[0.56638249 0.75880641 0.81001079 0.38044171]\n",
            " [0.8091549  0.11078407 0.48820193 0.82770919]\n",
            " [0.85790396 0.55674959 0.31701567 0.04921525]\n",
            " [0.14777236 0.00212956 0.13000026 0.23487079]]\n",
            "6x6 array with border of zeros:\n",
            " [[0.         0.         0.         0.         0.         0.        ]\n",
            " [0.         0.56638249 0.75880641 0.81001079 0.38044171 0.        ]\n",
            " [0.         0.8091549  0.11078407 0.48820193 0.82770919 0.        ]\n",
            " [0.         0.85790396 0.55674959 0.31701567 0.04921525 0.        ]\n",
            " [0.         0.14777236 0.00212956 0.13000026 0.23487079 0.        ]\n",
            " [0.         0.         0.         0.         0.         0.        ]]\n"
          ]
        }
      ]
    },
    {
      "cell_type": "markdown",
      "source": [
        "# Example Output\n",
        "# The output will vary each time you run the code because of the random float values. Here’s an example output:"
      ],
      "metadata": {
        "id": "pOxJPMvCfnW7"
      }
    },
    {
      "cell_type": "markdown",
      "source": [
        "# This code demonstrates how to create a 4x4 array with random float values and add a border of zeros around it using NumPy."
      ],
      "metadata": {
        "id": "_T2oqBzVfuXA"
      }
    },
    {
      "cell_type": "markdown",
      "source": [
        "# 4. Using NumPy, create an array of integers from 10 to 60 with a step of 5."
      ],
      "metadata": {
        "id": "-jT5V6TRf6yb"
      }
    },
    {
      "cell_type": "markdown",
      "source": [
        "# Create an array of integers from 10 to 60 with a step of 5 using the np.arange() function in NumPy."
      ],
      "metadata": {
        "id": "EASmncpCgRh_"
      }
    },
    {
      "cell_type": "code",
      "source": [
        "import numpy as np\n",
        "\n",
        "# Creating an array of integers from 10 to 60 with a step of 5\n",
        "arr = np.arange(10, 65, 5)\n",
        "print(\"Array with integers from 10 to 60 with step 5:\\n\", arr)"
      ],
      "metadata": {
        "colab": {
          "base_uri": "https://localhost:8080/"
        },
        "id": "Kzev_cMHfe48",
        "outputId": "f88a1139-b8c3-4cd6-b680-c13d4c0740a0"
      },
      "execution_count": null,
      "outputs": [
        {
          "output_type": "stream",
          "name": "stdout",
          "text": [
            "Array with integers from 10 to 60 with step 5:\n",
            " [10 15 20 25 30 35 40 45 50 55 60]\n"
          ]
        }
      ]
    },
    {
      "cell_type": "markdown",
      "source": [
        "# Explanation\n",
        "# np.arange(start, stop, step): This function generates an array with values starting from start up to (but not including) stop, with a specified step between each value.\n",
        "# Parameters:\n",
        "# start: The starting value of the sequence (inclusive).\n",
        "# stop: The end value of the sequence (exclusive).\n",
        "# step: The difference between each pair of consecutive values."
      ],
      "metadata": {
        "id": "BPgum5y_gtNj"
      }
    },
    {
      "cell_type": "markdown",
      "source": [
        "# This code snippet demonstrates how to create an array with a specified range and step size using NumPy."
      ],
      "metadata": {
        "id": "NXyw2eK7g7ed"
      }
    },
    {
      "cell_type": "markdown",
      "source": [
        "# 5. Create a NumPy array of strings ['python', 'numpy', 'pandas']. Apply different case transformations (uppercase, lowercase, title case, etc.) to each element.\n",
        "\n",
        "# Create a NumPy array of strings and apply different case transformations to each element:"
      ],
      "metadata": {
        "id": "cwXWBANhhE5V"
      }
    },
    {
      "cell_type": "code",
      "source": [
        "import numpy as np\n",
        "\n",
        "# Create a NumPy array of strings\n",
        "arr = np.array(['python', 'numpy', 'pandas'])\n",
        "\n",
        "# Apply different case transformations\n",
        "uppercase_arr = np.char.upper(arr)\n",
        "lowercase_arr = np.char.lower(arr)\n",
        "titlecase_arr = np.char.title(arr)\n",
        "swapcase_arr = np.char.swapcase(arr)\n",
        "\n",
        "print(\"Original array:\", arr)\n",
        "print(\"Uppercase:\", uppercase_arr)\n",
        "print(\"Lowercase:\", lowercase_arr)\n",
        "print(\"Title case:\", titlecase_arr)\n",
        "print(\"Swap case:\", swapcase_arr)"
      ],
      "metadata": {
        "colab": {
          "base_uri": "https://localhost:8080/"
        },
        "id": "VeCF7Q8ngk86",
        "outputId": "4ba74b3c-a594-406a-d86b-84b23e6a8167"
      },
      "execution_count": null,
      "outputs": [
        {
          "output_type": "stream",
          "name": "stdout",
          "text": [
            "Original array: ['python' 'numpy' 'pandas']\n",
            "Uppercase: ['PYTHON' 'NUMPY' 'PANDAS']\n",
            "Lowercase: ['python' 'numpy' 'pandas']\n",
            "Title case: ['Python' 'Numpy' 'Pandas']\n",
            "Swap case: ['PYTHON' 'NUMPY' 'PANDAS']\n"
          ]
        }
      ]
    },
    {
      "cell_type": "markdown",
      "source": [
        "# 6. Generate a NumPy array of words. Insert a space between each character of every word in the array.\n",
        "\n",
        "# create a NumPy array of words and insert a space between each character of every word in the array:"
      ],
      "metadata": {
        "id": "De6mImwPoIDj"
      }
    },
    {
      "cell_type": "code",
      "source": [
        "import numpy as np\n",
        "\n",
        "# Create a NumPy array of words\n",
        "words = np.array(['python', 'numpy', 'pandas'])\n",
        "\n",
        "# Insert a space between each character of every word\n",
        "spaced_words = np.char.join(' ', words)\n",
        "\n",
        "print(\"Original array:\", words)\n",
        "print(\"Array with spaces:\", spaced_words)"
      ],
      "metadata": {
        "colab": {
          "base_uri": "https://localhost:8080/"
        },
        "id": "nNsDS-WboAC2",
        "outputId": "21fe69ee-8e9a-4dfa-8874-58c654b753e0"
      },
      "execution_count": null,
      "outputs": [
        {
          "output_type": "stream",
          "name": "stdout",
          "text": [
            "Original array: ['python' 'numpy' 'pandas']\n",
            "Array with spaces: ['p y t h o n' 'n u m p y' 'p a n d a s']\n"
          ]
        }
      ]
    },
    {
      "cell_type": "markdown",
      "source": [
        "# 7. Create two 2D NumPy arrays and perform element-wise addition, subtraction, multiplication, and division.\n",
        "\n",
        "# Create two 2D NumPy arrays and perform element-wise addition, subtraction, multiplication, and division:"
      ],
      "metadata": {
        "id": "jLcGsIXNohjb"
      }
    },
    {
      "cell_type": "code",
      "source": [
        "import numpy as np\n",
        "\n",
        "# Create two 2D NumPy arrays\n",
        "array1 = np.array([[1, 2, 3], [4, 5, 6]])\n",
        "array2 = np.array([[7, 8, 9], [10, 11, 12]])\n",
        "\n",
        "# Perform element-wise operations\n",
        "addition = np.add(array1, array2)\n",
        "subtraction = np.subtract(array1, array2)\n",
        "multiplication = np.multiply(array1, array2)\n",
        "division = np.divide(array1, array2)\n",
        "\n",
        "print(\"Array 1:\\n\", array1)\n",
        "print(\"Array 2:\\n\", array2)\n",
        "print(\"Element-wise Addition:\\n\", addition)\n",
        "print(\"Element-wise Subtraction:\\n\", subtraction)\n",
        "print(\"Element-wise Multiplication:\\n\", multiplication)\n",
        "print(\"Element-wise Division:\\n\", division)"
      ],
      "metadata": {
        "colab": {
          "base_uri": "https://localhost:8080/"
        },
        "id": "kz13QYH6oZIg",
        "outputId": "6ada1a2d-0ce7-46d4-ea72-0cf4dde19976"
      },
      "execution_count": null,
      "outputs": [
        {
          "output_type": "stream",
          "name": "stdout",
          "text": [
            "Array 1:\n",
            " [[1 2 3]\n",
            " [4 5 6]]\n",
            "Array 2:\n",
            " [[ 7  8  9]\n",
            " [10 11 12]]\n",
            "Element-wise Addition:\n",
            " [[ 8 10 12]\n",
            " [14 16 18]]\n",
            "Element-wise Subtraction:\n",
            " [[-6 -6 -6]\n",
            " [-6 -6 -6]]\n",
            "Element-wise Multiplication:\n",
            " [[ 7 16 27]\n",
            " [40 55 72]]\n",
            "Element-wise Division:\n",
            " [[0.14285714 0.25       0.33333333]\n",
            " [0.4        0.45454545 0.5       ]]\n"
          ]
        }
      ]
    },
    {
      "cell_type": "markdown",
      "source": [
        "# 8. Use NumPy to create a 5x5 identity matrix, then extract its diagonal elements.\n",
        "\n",
        "# Create a 5x5 identity matrix using NumPy and then extract its diagonal elements:"
      ],
      "metadata": {
        "id": "VoJcMlLmpLFH"
      }
    },
    {
      "cell_type": "code",
      "source": [
        "import numpy as np\n",
        "\n",
        "# Create a 5x5 identity matrix\n",
        "identity_matrix = np.identity(5)\n",
        "\n",
        "# Extract the diagonal elements\n",
        "diagonal_elements = np.diag(identity_matrix)\n",
        "\n",
        "print(\"5x5 Identity Matrix:\\n\", identity_matrix)\n",
        "print(\"Diagonal Elements:\", diagonal_elements)"
      ],
      "metadata": {
        "colab": {
          "base_uri": "https://localhost:8080/"
        },
        "id": "dQi7o9s1o6mG",
        "outputId": "1bf35c51-d99d-4ff5-833b-89989b7fb976"
      },
      "execution_count": null,
      "outputs": [
        {
          "output_type": "stream",
          "name": "stdout",
          "text": [
            "5x5 Identity Matrix:\n",
            " [[1. 0. 0. 0. 0.]\n",
            " [0. 1. 0. 0. 0.]\n",
            " [0. 0. 1. 0. 0.]\n",
            " [0. 0. 0. 1. 0.]\n",
            " [0. 0. 0. 0. 1.]]\n",
            "Diagonal Elements: [1. 1. 1. 1. 1.]\n"
          ]
        }
      ]
    },
    {
      "cell_type": "markdown",
      "source": [
        "# 9. Generate a NumPy array of 100 random integers between 0 and 1000. Find and display all prime numbers in this array.\n",
        "\n",
        "# generate a NumPy array of 100 random integers between 0 and 1000, and then find and display all the prime numbers in this array:"
      ],
      "metadata": {
        "id": "ctoSqj-1pjHS"
      }
    },
    {
      "cell_type": "code",
      "source": [
        "import numpy as np\n",
        "\n",
        "# Function to check if a number is prime\n",
        "def is_prime(n):\n",
        "    if n <= 1:\n",
        "        return False\n",
        "    for i in range(2, int(np.sqrt(n)) + 1):\n",
        "        if n % i == 0:\n",
        "            return False\n",
        "    return True\n",
        "\n",
        "# Generate a NumPy array of 100 random integers between 0 and 1000\n",
        "random_integers = np.random.randint(0, 1000, size=100)\n",
        "\n",
        "# Find all prime numbers in the array\n",
        "prime_numbers = [num for num in random_integers if is_prime(num)]\n",
        "\n",
        "print(\"Random Integers:\\n\", random_integers)\n",
        "print(\"Prime Numbers:\\n\", prime_numbers)"
      ],
      "metadata": {
        "colab": {
          "base_uri": "https://localhost:8080/"
        },
        "id": "XnuvaZMRpbb7",
        "outputId": "f389a935-5866-44c1-9b29-c4163142f685"
      },
      "execution_count": null,
      "outputs": [
        {
          "output_type": "stream",
          "name": "stdout",
          "text": [
            "Random Integers:\n",
            " [264 702 276 616 761 125 329 603 359 376 941 778 280 383 579 174 124 762\n",
            " 619 488 149 630 258 509 617  16 279 219 902  93 263 813 974 462 190  26\n",
            " 897  29  17 633   2 951 653 884  84 251  22 541 657 637 372 508 437 108\n",
            " 811 696 466 516 247 391 176 671 168 226 711  89 767 826 556 536 488 939\n",
            " 917 253 890 799 401 686 824 688 210 644 904  84 156 584 655 934 948 640\n",
            " 347 721 466 788 534 364 768 292 964 560]\n",
            "Prime Numbers:\n",
            " [761, 359, 941, 383, 619, 149, 509, 617, 263, 29, 17, 2, 653, 251, 541, 811, 89, 401, 347]\n"
          ]
        }
      ]
    },
    {
      "cell_type": "markdown",
      "source": [
        "# 10. Create a NumPy array representing daily temperatures for a month. Calculate and display the weekly averages.\n",
        "\n",
        "# create a NumPy array representing daily temperatures for a month and calculate the weekly averages:"
      ],
      "metadata": {
        "id": "-25tqczEqJCU"
      }
    },
    {
      "cell_type": "code",
      "source": [
        "import numpy as np\n",
        "\n",
        "# Generate a NumPy array of daily temperatures for a month (30 days)\n",
        "daily_temperatures = np.random.randint(20, 40, size=30)  # Example temperatures between 20°C and 40°C\n",
        "\n",
        "# Calculate weekly averages\n",
        "weekly_averages = [np.mean(daily_temperatures[i:i+7]) for i in range(0, len(daily_temperatures), 7)]\n",
        "\n",
        "print(\"Daily Temperatures:\\n\", daily_temperatures)\n",
        "print(\"Weekly Averages:\\n\", weekly_averages)"
      ],
      "metadata": {
        "colab": {
          "base_uri": "https://localhost:8080/"
        },
        "id": "GLANQ44bp4_Z",
        "outputId": "43d1205c-e22b-496c-a744-296ad6340a12"
      },
      "execution_count": null,
      "outputs": [
        {
          "output_type": "stream",
          "name": "stdout",
          "text": [
            "Daily Temperatures:\n",
            " [23 20 27 39 33 34 21 33 35 24 23 31 33 23 37 23 23 36 24 27 23 39 23 25\n",
            " 33 20 20 28 38 39]\n",
            "Weekly Averages:\n",
            " [28.142857142857142, 28.857142857142858, 27.571428571428573, 26.857142857142858, 38.5]\n"
          ]
        }
      ]
    }
  ]
}